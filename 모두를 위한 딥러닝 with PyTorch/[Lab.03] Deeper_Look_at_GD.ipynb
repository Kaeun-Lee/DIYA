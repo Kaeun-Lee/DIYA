{
 "cells": [
  {
   "cell_type": "markdown",
   "id": "administrative-model",
   "metadata": {},
   "source": [
    "# ▼ Deeper Look at Gradient Descent\n",
    "\n",
    "\n",
    "- Hypothesis function \n",
    "- 사용할 모의 data확인\n",
    "- Cost function 이해\n",
    "- Gradient descent 이론\n",
    "- Gradient descent 구현\n",
    "- Gradient descent 구현 (nn.optim)"
   ]
  },
  {
   "cell_type": "markdown",
   "id": "recreational-photography",
   "metadata": {},
   "source": [
    "## Hypothesis (Linear Regression)\n",
    "\n",
    "- H(x) = Wx + b"
   ]
  },
  {
   "cell_type": "code",
   "execution_count": null,
   "id": "lasting-father",
   "metadata": {},
   "outputs": [],
   "source": [
    "W = torch.zeros(1, requires_grad=True)\n",
    "b = torch.zeros(1, requires_grad=True)\n",
    "hypothesis = x_train * W + b"
   ]
  },
  {
   "cell_type": "markdown",
   "id": "standard-fellowship",
   "metadata": {},
   "source": [
    "## Simpler Hypothesis Function\n",
    "\n",
    "- H(x) = Wx\n",
    "    - No Bias!\n",
    "    "
   ]
  },
  {
   "cell_type": "code",
   "execution_count": null,
   "id": "dress-french",
   "metadata": {},
   "outputs": [],
   "source": [
    "W = torch.zeros(1, requires_grad=True)\n",
    "# b = torch.zeros(1, requires_grad=True)\n",
    "hypothesis = x_train * W"
   ]
  },
  {
   "cell_type": "markdown",
   "id": "offshore-europe",
   "metadata": {},
   "source": [
    "## Dummy Data\n",
    "- Input = Output 인 data를 사용\n",
    "- 1 -> prediction: 1"
   ]
  },
  {
   "cell_type": "code",
   "execution_count": 1,
   "id": "destroyed-encounter",
   "metadata": {},
   "outputs": [],
   "source": [
    "import torch\n",
    "from torch import optim\n",
    "x_train = torch.FloatTensor([[1], [2], [3]])\n",
    "y_train = torch.FloatTensor([[1], [2], [3]])"
   ]
  },
  {
   "cell_type": "markdown",
   "id": "fitting-grace",
   "metadata": {},
   "source": [
    "## What is the best model?\n",
    "\n",
    "- H(x) = x가 정확한 모델\n",
    "- W = 1이 가장 좋은 숫자\n",
    "    - W가 1일 때, data set에 있는 모든 data의 정확한 값을 예측\n",
    "    \n",
    "    \n",
    "- W가 1이 아닌 값으로 시작할 때 학습목표는?\n",
    "    - W를 1로 수렴시키는 것\n",
    "    - W가 1에 가까울수록 더 정확한 모델이 됨\n",
    "    \n",
    "    \n",
    "- **모델의 좋고 나쁨**을 평가하는 방법?\n",
    "    - Cost function 이용"
   ]
  },
  {
   "cell_type": "markdown",
   "id": "accepted-bristol",
   "metadata": {},
   "source": [
    "## Cost function: Intuition\n",
    "\n",
    "- 모델의 예측값이 실제 data와 얼마나 다른지를 나타내는 값\n",
    "    - 잘 학습된 모델일수록 낮은 cost를 가짐\n",
    "    \n",
    "    \n",
    "- W = 1일 때, cost = 0\n",
    "- W가 1에서 멀어질수록 예측값과 실제 데이터가 다름\n",
    "    - cost가 높아짐"
   ]
  },
  {
   "cell_type": "markdown",
   "id": "stuffed-florida",
   "metadata": {},
   "source": [
    "## Cost function: MSE\n",
    "- Mean Squared Error(MSE)\n",
    "    - Linear regression에서 쓰이는 cost function"
   ]
  },
  {
   "cell_type": "code",
   "execution_count": null,
   "id": "capital-volleyball",
   "metadata": {},
   "outputs": [],
   "source": [
    "cost = torch.mean((hypothesis - y_train) ** 2)"
   ]
  },
  {
   "cell_type": "markdown",
   "id": "charming-warning",
   "metadata": {},
   "source": [
    "## Gradient Descent: Intuition\n",
    "\n",
    "\n",
    "- 우리가 원하는 것은?\n",
    "    - Cost function을 최소화\n",
    "\n",
    "\n",
    "\n",
    "- Cost function을 최소화하려면?\n",
    "    - 곡선을 내려가자\n",
    "    - 기울기가 음수일 때: W가 커져야 함 ↑\n",
    "    - 기울기가 양수일 때: W가 작아져야 함 ↓\n",
    "    - 기울기가 가파르면: cost가 크다 ↑\n",
    "        - so, W를 크게 바꾼다(멀리 보낸다)!\n",
    "    - 기울기가 평평하면: cost가 0에 가깝다\n",
    "        - so, W를 조금만 바꾼다\n",
    "    - Gradient를 계산하자\n",
    "\n",
    "\n",
    "- 기울기 = 'Gradient'"
   ]
  },
  {
   "cell_type": "markdown",
   "id": "saved-bangkok",
   "metadata": {},
   "source": [
    "## Gradient Descent: Code"
   ]
  },
  {
   "cell_type": "code",
   "execution_count": null,
   "id": "national-victim",
   "metadata": {},
   "outputs": [],
   "source": [
    "gradient = 2 * torch.mean((W * x_train - y_train) * x_train)\n",
    "lr = 0.1\n",
    "W -= lr * gradient"
   ]
  },
  {
   "cell_type": "markdown",
   "id": "informational-delivery",
   "metadata": {},
   "source": [
    "## Full Code\n",
    "\n",
    "\n",
    "- Epoch: 데이터로 학습한 횟수\n",
    "- 학습하면서 점점:\n",
    "    - 1에 수렴하는 W\n",
    "    - 줄어드는 cost"
   ]
  },
  {
   "cell_type": "code",
   "execution_count": 2,
   "id": "unlimited-disease",
   "metadata": {
    "scrolled": true
   },
   "outputs": [
    {
     "name": "stdout",
     "output_type": "stream",
     "text": [
      "Epoch    0/10 W: 0.000, Cost: 4.666667\n",
      "Epoch    1/10 W: 1.400, Cost: 0.746666\n",
      "Epoch    2/10 W: 0.840, Cost: 0.119467\n",
      "Epoch    3/10 W: 1.064, Cost: 0.019115\n",
      "Epoch    4/10 W: 0.974, Cost: 0.003058\n",
      "Epoch    5/10 W: 1.010, Cost: 0.000489\n",
      "Epoch    6/10 W: 0.996, Cost: 0.000078\n",
      "Epoch    7/10 W: 1.002, Cost: 0.000013\n",
      "Epoch    8/10 W: 0.999, Cost: 0.000002\n",
      "Epoch    9/10 W: 1.000, Cost: 0.000000\n",
      "Epoch   10/10 W: 1.000, Cost: 0.000000\n"
     ]
    }
   ],
   "source": [
    "# 데이터\n",
    "x_train = torch.FloatTensor([[1], [2], [3]])\n",
    "y_train = torch.FloatTensor([[1], [2], [3]])\n",
    "# 모델 초기화\n",
    "W = torch.zeros(1)\n",
    "# Learning rate 설정\n",
    "lr = 0.1\n",
    "\n",
    "nb_epochs = 10\n",
    "for epoch in range(nb_epochs + 1):\n",
    "    \n",
    "    # H(x) 계산\n",
    "    hypothesis = x_train * W\n",
    "    \n",
    "    # cost gradient 계산\n",
    "    cost = torch.mean((hypothesis - y_train) ** 2)\n",
    "    gradient = torch.sum((W * x_train - y_train) * x_train)\n",
    "    \n",
    "    print('Epoch {:4d}/{} W: {:.3f}, Cost: {:.6f}'.format\n",
    "          (epoch, nb_epochs, W.item(), cost.item()\n",
    "    ))\n",
    "    \n",
    "    # cost gradient로 H(x) 계산\n",
    "    W -= lr * gradient"
   ]
  },
  {
   "cell_type": "markdown",
   "id": "classified-vinyl",
   "metadata": {
    "scrolled": true
   },
   "source": [
    "## Gradient Descent with torch.optim\n",
    "\n",
    "- torch.optim으로도 gradient descent를 할 수 있음\n",
    "    - 이 3줄을 통해 optimizer는 W에 gradient를 저장한 후,  \n",
    "    그대로 W값을 gradient에 맞게 update 한다\n",
    "        - 시작할 때 Optimizer 정의  \n",
    "    (학습 가능한 변수, learning rate 포함)\n",
    "        - optimizer.zero_grad()로 gradient를 0으로 초기화\n",
    "            - optimizer에 저장되어 있는, 모든 학습 가능한 변수의 gradient를 전부 0으로 초기화\n",
    "        - cost.backward()로 gradient 계산\n",
    "            - cost function을 미분해서, 각 변수들의 gradient를 채움\n",
    "        - optimizer.step()으로 gradient descent\n",
    "            - 저장된 gradient 값으로 gradient descent 시행"
   ]
  },
  {
   "cell_type": "code",
   "execution_count": null,
   "id": "municipal-identity",
   "metadata": {},
   "outputs": [],
   "source": [
    "# optimizer 설정\n",
    "optimizer = optim.SGD([W], lr=0.15)\n",
    "\n",
    "# cost로 H(x) 개선\n",
    "optimizer.zero_grad()\n",
    "cost.backward()\n",
    "optimizer.step()"
   ]
  },
  {
   "cell_type": "markdown",
   "id": "subtle-assault",
   "metadata": {},
   "source": [
    "## Full Code with torch.optim\n",
    "\n",
    "- 학습하면서 점점:\n",
    "    - 1에 수렴하는 W\n",
    "    - 줄어드는 cost"
   ]
  },
  {
   "cell_type": "code",
   "execution_count": 3,
   "id": "chubby-chick",
   "metadata": {},
   "outputs": [
    {
     "name": "stdout",
     "output_type": "stream",
     "text": [
      "Epoch    0/10 W: 0.000, Cost: 4.666667\n",
      "Epoch    1/10 W: 1.400, Cost: 0.746667\n",
      "Epoch    2/10 W: 0.840, Cost: 0.119467\n",
      "Epoch    3/10 W: 1.064, Cost: 0.019115\n",
      "Epoch    4/10 W: 0.974, Cost: 0.003058\n",
      "Epoch    5/10 W: 1.010, Cost: 0.000489\n",
      "Epoch    6/10 W: 0.996, Cost: 0.000078\n",
      "Epoch    7/10 W: 1.002, Cost: 0.000013\n",
      "Epoch    8/10 W: 0.999, Cost: 0.000002\n",
      "Epoch    9/10 W: 1.000, Cost: 0.000000\n",
      "Epoch   10/10 W: 1.000, Cost: 0.000000\n"
     ]
    }
   ],
   "source": [
    "# 데이터\n",
    "x_train = torch.FloatTensor([[1], [2], [3]])\n",
    "y_train = torch.FloatTensor([[1], [2], [3]])\n",
    "# 모델 초기화\n",
    "W = torch.zeros(1, requires_grad=True)\n",
    "# optimizer 설정\n",
    "optimizer = optim.SGD([W], lr=0.15)\n",
    "\n",
    "nb_epochs = 10\n",
    "for epoch in range(nb_epochs + 1):\n",
    "    \n",
    "    # H(x) 계산\n",
    "    hypothesis = x_train * W\n",
    "    \n",
    "    # cost 계산\n",
    "    cost = torch.mean((hypothesis - y_train) ** 2)\n",
    "    \n",
    "    print('Epoch {:4d}/{} W: {:.3f}, Cost: {:.6f}'.format(\n",
    "         epoch, nb_epochs, W.item(), cost.item()\n",
    "    ))\n",
    "        \n",
    "    # cost로 H(x) 개선\n",
    "    optimizer.zero_grad()\n",
    "    cost.backward()\n",
    "    optimizer.step()"
   ]
  }
 ],
 "metadata": {
  "kernelspec": {
   "display_name": "Python 3",
   "language": "python",
   "name": "python3"
  },
  "language_info": {
   "codemirror_mode": {
    "name": "ipython",
    "version": 3
   },
   "file_extension": ".py",
   "mimetype": "text/x-python",
   "name": "python",
   "nbconvert_exporter": "python",
   "pygments_lexer": "ipython3",
   "version": "3.7.10"
  }
 },
 "nbformat": 4,
 "nbformat_minor": 5
}

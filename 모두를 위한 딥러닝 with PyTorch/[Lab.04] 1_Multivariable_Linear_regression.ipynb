{
 "cells": [
  {
   "cell_type": "markdown",
   "id": "fiscal-playing",
   "metadata": {},
   "source": [
    "# ▼ Multivariate Linear Regression\n",
    "\n",
    "- Simple Linear Regression\n",
    "- Multivariate Linear Regression 이론 \n",
    "- Naive Data Representation\n",
    "- Matrix Data Representation\n",
    "- Multivariate Linear Regression\n",
    "- nn.Module 소개\n",
    "- F.mse_loss 소개"
   ]
  },
  {
   "cell_type": "markdown",
   "id": "green-selection",
   "metadata": {},
   "source": [
    "## Simple Linear Regression\n",
    "- 하나의 정보로부터 하나의 값을 예측하는 모델 \n",
    "    - ex) 1시간 공부 -> Test socre Prediction: 2점\n",
    "- H(x) = Wx + b"
   ]
  },
  {
   "cell_type": "markdown",
   "id": "norman-syndrome",
   "metadata": {},
   "source": [
    "## Multivariate Linear Regression\n",
    "- **여러 개의 정보**로부터 **하나의 값**을 예측\n",
    "    - ex) Quize Scores가 73, 80, 75점 →  \n",
    "    Final Score Prediction: 152점\n",
    "- H(x) = Wx + b"
   ]
  },
  {
   "cell_type": "markdown",
   "id": "minus-quilt",
   "metadata": {},
   "source": [
    "## Data\n",
    "\n",
    "\n",
    "|Quiz 1 (x1)|Quiz 2 (x2)|Quiz 3 (x3)|Final(y)|\n",
    "|:---:|:---:|:---:|:---:|\n",
    "|73|80|75|152|\n",
    "|93|88|93|185|\n",
    "|89|91|80|180|\n",
    "|96|98|100|196|\n",
    "|73|66|70|142|\n",
    "\n",
    "                                "
   ]
  },
  {
   "cell_type": "code",
   "execution_count": 1,
   "id": "following-pilot",
   "metadata": {},
   "outputs": [],
   "source": [
    "import torch\n",
    "from torch import optim\n",
    "\n",
    "x_train = torch.FloatTensor([[73, 80, 75],\n",
    "                             [93, 88, 93],\n",
    "                             [89, 91, 90],\n",
    "                             [96, 98, 100],\n",
    "                             [73, 66, 70]])\n",
    "y_train = torch.FloatTensor([[152], [185], [180], [196], [142]])"
   ]
  },
  {
   "cell_type": "markdown",
   "id": "eastern-affiliation",
   "metadata": {},
   "source": [
    "## Hypothesis Function: Naive\n",
    "- H(x) = Wx + b\n",
    "    - x라는 vector와 W라는 matrix의 곱\n",
    "    \n",
    "    \n",
    "- H(x) = w1x1 + w2x2 + w3x3 + b\n",
    "    - 입력변수가 3개면 weight도 3개\n",
    "    \n",
    "    \n",
    "   \n",
    "- 하지만 x가 길이 1000의 vector라면?  \n",
    "    - hypothesis가 점점 길어질 것"
   ]
  },
  {
   "cell_type": "code",
   "execution_count": null,
   "id": "architectural-north",
   "metadata": {},
   "outputs": [],
   "source": [
    "# H(x) 계산\n",
    "hypothesis = x1_train * w1 + x2_train * w2 + x3_train * w3 + b"
   ]
  },
  {
   "cell_type": "markdown",
   "id": "faced-miller",
   "metadata": {},
   "source": [
    "## Hypothesis Function: Matrix\n",
    "\n",
    "- matmul()로 한 번에 계산\n",
    "    - a. 더 간결\n",
    "    - b. x의 길이가 바뀌어도 코드를 바꿀 필요 없음\n",
    "    - c. 속도가 더 빠름"
   ]
  },
  {
   "cell_type": "code",
   "execution_count": null,
   "id": "north-evanescence",
   "metadata": {},
   "outputs": [],
   "source": [
    "# H(x) 계산\n",
    "hypothesis = x_train.matmul(W) + b # or. mm or @"
   ]
  },
  {
   "cell_type": "markdown",
   "id": "stone-grave",
   "metadata": {},
   "source": [
    "## Cost function: MSE\n",
    "- 기존 Simple Linear Regression과 동일한 공식\n",
    "\n",
    "\n",
    "<center><img src=\"img/cost.png\" width=\"60%\" height=\"60%\"></center>\n"
   ]
  },
  {
   "cell_type": "code",
   "execution_count": null,
   "id": "previous-french",
   "metadata": {},
   "outputs": [],
   "source": [
    "cost = torch.mean((hypothesis - y_train) ** 2)"
   ]
  },
  {
   "cell_type": "markdown",
   "id": "loving-field",
   "metadata": {},
   "source": [
    "## Gradient Descent with torch.optim\n",
    "\n",
    "<center><img src=\"img/gra.png\" width=\"60%\" hight=\"60%\"></center>"
   ]
  },
  {
   "cell_type": "code",
   "execution_count": null,
   "id": "interested-importance",
   "metadata": {},
   "outputs": [],
   "source": [
    "# optimizer 설정\n",
    "optimizer = optim.SGD([W, b], lr=1e-5)\n",
    "\n",
    "# optimizer 사용법\n",
    "optimizer.zero_grad()\n",
    "cost.backward()\n",
    "optimizer.step()"
   ]
  },
  {
   "cell_type": "markdown",
   "id": "vertical-regular",
   "metadata": {},
   "source": [
    "## Full Code with torch.optim(1)\n",
    "- 1. 데이터 정의\n",
    "- 2. 모델 정의\n",
    "- 3. optimizer 정의"
   ]
  },
  {
   "cell_type": "code",
   "execution_count": 2,
   "id": "reserved-surface",
   "metadata": {},
   "outputs": [
    {
     "name": "stdout",
     "output_type": "stream",
     "text": [
      "torch.Size([5, 3])\n",
      "torch.Size([5, 1])\n"
     ]
    }
   ],
   "source": [
    "# 데이터\n",
    "x_train = torch.FloatTensor([[73, 80, 75],\n",
    "                             [93, 88, 93],\n",
    "                             [89, 91, 90],\n",
    "                             [96, 98, 100],\n",
    "                             [73, 66, 70]])\n",
    "y_train = torch.FloatTensor([[152], [185], [180], [196], [142]])\n",
    "\n",
    "print(x_train.shape)\n",
    "print(y_train.shape)\n",
    "\n",
    "# 모델 초기화\n",
    "W = torch.zeros((3, 1), requires_grad=True)\n",
    "b = torch.zeros(1, requires_grad=True)\n",
    "\n",
    "# optimizer 설정\n",
    "optimizer = optim.SGD([W, b], lr=1e-5)"
   ]
  },
  {
   "cell_type": "markdown",
   "id": "social-batman",
   "metadata": {},
   "source": [
    "## Full Code with torch.optim(2)\n",
    "- 4. Hypothesis 계산\n",
    "- 5. Cost 계산 (MSE)\n",
    "- 6. Gradient descent"
   ]
  },
  {
   "cell_type": "code",
   "execution_count": 3,
   "id": "equipped-tackle",
   "metadata": {
    "scrolled": true
   },
   "outputs": [
    {
     "name": "stdout",
     "output_type": "stream",
     "text": [
      "Epoch    0/20 hypothesis: tensor([0., 0., 0., 0., 0.]) Cost: 29661.800781\n",
      "Epoch    1/20 hypothesis: tensor([67.2578, 80.8397, 79.6523, 86.7394, 61.6605]) Cost: 9298.520508\n",
      "Epoch    2/20 hypothesis: tensor([104.9128, 126.0990, 124.2466, 135.3015,  96.1821]) Cost: 2915.712646\n",
      "Epoch    3/20 hypothesis: tensor([125.9942, 151.4381, 149.2133, 162.4896, 115.5097]) Cost: 915.040527\n",
      "Epoch    4/20 hypothesis: tensor([137.7968, 165.6247, 163.1911, 177.7112, 126.3307]) Cost: 287.936005\n",
      "Epoch    5/20 hypothesis: tensor([144.4044, 173.5674, 171.0168, 186.2332, 132.3891]) Cost: 91.371017\n",
      "Epoch    6/20 hypothesis: tensor([148.1035, 178.0144, 175.3980, 191.0042, 135.7812]) Cost: 29.758139\n",
      "Epoch    7/20 hypothesis: tensor([150.1744, 180.5042, 177.8508, 193.6753, 137.6805]) Cost: 10.445305\n",
      "Epoch    8/20 hypothesis: tensor([151.3336, 181.8983, 179.2240, 195.1707, 138.7440]) Cost: 4.391228\n",
      "Epoch    9/20 hypothesis: tensor([151.9824, 182.6789, 179.9928, 196.0079, 139.3396]) Cost: 2.493135\n",
      "Epoch   10/20 hypothesis: tensor([152.3454, 183.1161, 180.4231, 196.4765, 139.6732]) Cost: 1.897688\n",
      "Epoch   11/20 hypothesis: tensor([152.5485, 183.3610, 180.6640, 196.7389, 139.8602]) Cost: 1.710541\n",
      "Epoch   12/20 hypothesis: tensor([152.6620, 183.4982, 180.7988, 196.8857, 139.9651]) Cost: 1.651413\n",
      "Epoch   13/20 hypothesis: tensor([152.7253, 183.5752, 180.8742, 196.9678, 140.0240]) Cost: 1.632387\n",
      "Epoch   14/20 hypothesis: tensor([152.7606, 183.6184, 180.9164, 197.0138, 140.0571]) Cost: 1.625923\n",
      "Epoch   15/20 hypothesis: tensor([152.7802, 183.6427, 180.9399, 197.0395, 140.0759]) Cost: 1.623412\n",
      "Epoch   16/20 hypothesis: tensor([152.7909, 183.6565, 180.9530, 197.0538, 140.0865]) Cost: 1.622141\n",
      "Epoch   17/20 hypothesis: tensor([152.7968, 183.6643, 180.9603, 197.0618, 140.0927]) Cost: 1.621253\n",
      "Epoch   18/20 hypothesis: tensor([152.7999, 183.6688, 180.9644, 197.0662, 140.0963]) Cost: 1.620500\n",
      "Epoch   19/20 hypothesis: tensor([152.8014, 183.6715, 180.9666, 197.0686, 140.0985]) Cost: 1.619770\n",
      "Epoch   20/20 hypothesis: tensor([152.8020, 183.6731, 180.9677, 197.0699, 140.1000]) Cost: 1.619033\n"
     ]
    }
   ],
   "source": [
    "nb_epochs = 20\n",
    "for epoch in range(nb_epochs + 1):\n",
    "    \n",
    "    # H(x) 계산\n",
    "    hypothesis = x_train.matmul(W) + b  # or .mm or @\n",
    "    \n",
    "    # cost 계산\n",
    "    cost = torch.mean((hypothesis - y_train) ** 2)\n",
    "    \n",
    "    # cost로 H(x) 개선\n",
    "    optimizer.zero_grad()\n",
    "    cost.backward()\n",
    "    optimizer.step()\n",
    "    \n",
    "    print('Epoch {:4d}/{} hypothesis: {} Cost: {:.6f}'.format(\n",
    "    epoch, nb_epochs, hypothesis.squeeze().detach(),\n",
    "    cost.item()\n",
    "    ))"
   ]
  },
  {
   "cell_type": "markdown",
   "id": "affecting-preview",
   "metadata": {},
   "source": [
    "## Results\n",
    "- 점점 작아지는 Cost\n",
    "- 점점 y에 가까워지는 H(x)\n",
    "- Learning rate에 따라 발산할 수도 있음"
   ]
  },
  {
   "cell_type": "markdown",
   "id": "broken-semiconductor",
   "metadata": {},
   "source": [
    "## nn.Module\n",
    "- nn.Module을 상속해서 모델 생성\n",
    "- nn.Linear(3, 1)\n",
    "    - 입력 차원: 3\n",
    "    - 출력 차원: 1\n",
    "- Hypothesis 계산은 forward()에서\n",
    "- Gradient 계산은 PyTorch가 알아서 해줌(backward())"
   ]
  },
  {
   "cell_type": "code",
   "execution_count": null,
   "id": "worse-sarah",
   "metadata": {},
   "outputs": [],
   "source": [
    "# 모델 초기화\n",
    "W = torch.zeros((3, 1), requires_grad=True)\n",
    "b = torch.zeros(1,requires_grad=True)\n",
    "\n",
    "# H(x) 계산\n",
    "hypothesis = x_train.matmul(x) + b\n",
    "\n",
    "# -------------------------------------------------\n",
    "import torch.nn as nn\n",
    "\n",
    "class MultivariateLinearRegressionModel(nn.Module):\n",
    "    def __init__(self):\n",
    "        super().__init__()\n",
    "        self.linear = torch.nn.Linear(3, 1)\n",
    "        \n",
    "    def forward(self, x):\n",
    "        return self.linear(x)\n",
    "    \n",
    "hypothesis = model(x_train)"
   ]
  },
  {
   "cell_type": "markdown",
   "id": "engaging-edmonton",
   "metadata": {},
   "source": [
    "## F.mse_loss\n",
    "- torch.nn.functional에서 제공하는 loss function 사용\n",
    "- 쉽게 다른 loss와 교체 가능 (l1_loss, smooth_l1_loss 등)\n",
    "- cost function을 계산하면서 생기는 버그가 없어 디버깅 시 편리함"
   ]
  },
  {
   "cell_type": "code",
   "execution_count": null,
   "id": "bibliographic-response",
   "metadata": {},
   "outputs": [],
   "source": [
    "# cost 계산\n",
    "cost = torch.mean((hypothesis - y_train) ** 2)\n",
    "\n",
    "# ---------------------------------------------\n",
    "import torch.nn.functional as F\n",
    "\n",
    "cost = F.mse_loss(prediction, y_trian)"
   ]
  },
  {
   "cell_type": "markdown",
   "id": "coastal-three",
   "metadata": {},
   "source": [
    "## Full Code with torch.optim (1)\n",
    "- 1. 데이터 정의\n",
    "- 2. 모델 정의\n",
    "- 3. optimizer 정의"
   ]
  },
  {
   "cell_type": "code",
   "execution_count": null,
   "id": "engaged-works",
   "metadata": {},
   "outputs": [],
   "source": [
    "import torch\n",
    "import torch.nn as nn\n",
    "import torch.nn.functional as F\n",
    "\n",
    "# 데이터\n",
    "x_train = torch.FloatTensor([[73, 80, 75],\n",
    "                             [93, 88, 93],\n",
    "                             [89, 91, 90],\n",
    "                             [96, 98, 100],\n",
    "                             [73, 66, 70]])\n",
    "y_train = torch.FloatTensor([[152], [185], [180], [196], [142]])\n",
    "\n",
    "# 모델 초기화\n",
    "model = MultivariateLinearRegressionModel()\n",
    "\n",
    "# optimizer 설정\n",
    "optimizer = optim.SGD([W, b], lr=1e-5)"
   ]
  },
  {
   "cell_type": "markdown",
   "id": "continuous-prize",
   "metadata": {},
   "source": [
    "## Full Code with torch.optim (2)\n",
    "- 4. Hypothesis 계산\n",
    "- 5. Cost 계산 (MSE)\n",
    "- 6. Gradient descent"
   ]
  },
  {
   "cell_type": "code",
   "execution_count": null,
   "id": "instant-harris",
   "metadata": {},
   "outputs": [],
   "source": [
    "nb_epochs = 20\n",
    "for epoch in range(nb_epochs + 1):\n",
    "    \n",
    "    # H(x) 계산\n",
    "    Hypothesis = model(x_train)\n",
    "    \n",
    "    # cost 계산\n",
    "    cost = F.mse_loss(prediction, y_train)\n",
    "    \n",
    "    # cost로 H(x) 개선\n",
    "    optimizer.zero_grad()\n",
    "    cost.backward()\n",
    "    optimizer.step()\n",
    "    \n",
    "    print('Epoch {:4d}/{} hypothesis: {} Cost: {:6f}'.format(\n",
    "        epoch, nb_epochs, hypothesis.squeez().detach(),\n",
    "        cost.item()\n",
    "    ))"
   ]
  }
 ],
 "metadata": {
  "kernelspec": {
   "display_name": "Python 3",
   "language": "python",
   "name": "python3"
  },
  "language_info": {
   "codemirror_mode": {
    "name": "ipython",
    "version": 3
   },
   "file_extension": ".py",
   "mimetype": "text/x-python",
   "name": "python",
   "nbconvert_exporter": "python",
   "pygments_lexer": "ipython3",
   "version": "3.7.10"
  }
 },
 "nbformat": 4,
 "nbformat_minor": 5
}

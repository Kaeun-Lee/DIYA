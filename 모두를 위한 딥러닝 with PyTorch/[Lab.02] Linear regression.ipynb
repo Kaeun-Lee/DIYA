{
 "cells": [
  {
   "cell_type": "markdown",
   "id": "removed-document",
   "metadata": {},
   "source": [
    "# ▼ 주제\n",
    "- Data definition\n",
    "- Hypothesis\n",
    "- Compute loss\n",
    "- Gradient descent"
   ]
  },
  {
   "cell_type": "markdown",
   "id": "studied-sphere",
   "metadata": {},
   "source": [
    "## Data definition\n",
    "- 학습시키기 위한 데이터는 torch.tensor의 형태\n",
    "- 입력과 출력을 각기 다른 tensor에 저장\n",
    "    - 입력: x_train\n",
    "    - 출력: y_train\n",
    "    - 입출력은 x, y로 구분"
   ]
  },
  {
   "cell_type": "code",
   "execution_count": 1,
   "id": "detected-colony",
   "metadata": {
    "scrolled": true
   },
   "outputs": [
    {
     "name": "stdout",
     "output_type": "stream",
     "text": [
      "tensor([[1.],\n",
      "        [2.],\n",
      "        [3.]])\n",
      "tensor([[2.],\n",
      "        [4.],\n",
      "        [6.]])\n"
     ]
    }
   ],
   "source": [
    "import torch\n",
    "from torch import optim\n",
    "\n",
    "x_train = torch.FloatTensor([[1], [2], [3]])\n",
    "y_train = torch.FloatTensor([[2], [4], [6]])\n",
    "print(x_train)\n",
    "print(y_train)"
   ]
  },
  {
   "cell_type": "markdown",
   "id": "desperate-earth",
   "metadata": {},
   "source": [
    "## Hypothesis\n",
    "\n",
    "- Linear regression: 학습 데이터와 가장 잘 맞는 하나의 직선을 찾는 것\n",
    "\n",
    "\n",
    "- y = Wx + b\n",
    "    - W: Weight\n",
    "    - b: Bias\n",
    "    \n",
    "- Weight와 Bias를 0으로 초기화\n",
    "    - 즉, 처음에 어떤 입력을 받아도 항상 출력 0을 예측함\n",
    "- requires_grad=True\n",
    "    - W와 b를 학습시키는 것이 우리의 목표\n",
    "    - PyTorch에게 W와 b를 학습시킬 것이라고 명시"
   ]
  },
  {
   "cell_type": "code",
   "execution_count": 2,
   "id": "lesbian-platinum",
   "metadata": {},
   "outputs": [],
   "source": [
    "x_train = torch.FloatTensor([[1], [2], [3]])\n",
    "y_train = torch.FloatTensor([[2], [4], [6]])"
   ]
  },
  {
   "cell_type": "code",
   "execution_count": 3,
   "id": "wanted-research",
   "metadata": {},
   "outputs": [],
   "source": [
    "W = torch.zeros(1, requires_grad=True)\n",
    "b = torch.zeros(1, requires_grad=True)\n",
    "hypothesis = x_train * W + b"
   ]
  },
  {
   "cell_type": "markdown",
   "id": "photographic-tanzania",
   "metadata": {},
   "source": [
    "## Compute loss\n",
    "\n",
    "- Linear regression 에서는 **Mean Squared Error(MSE)** 함수로 loss를 계산\n",
    "    - cost(W, b)\n",
    "- torch.mean 으로 평균을 계산\n",
    "\n",
    "\n",
    "\n",
    "- 학습을 하려면, 우선 우리의 모델이 얼마나 정답과 가까운지 알아야 함\n",
    "    - 이 숫자를 **cost** 또는 **loss**라고 부름\n"
   ]
  },
  {
   "cell_type": "code",
   "execution_count": 4,
   "id": "nervous-preference",
   "metadata": {},
   "outputs": [],
   "source": [
    "cost = torch.mean((hypothesis - y_train) ** 2)"
   ]
  },
  {
   "cell_type": "markdown",
   "id": "favorite-friendly",
   "metadata": {},
   "source": [
    "## Gradient descent\n",
    "- torch.optim 라이브러리 사용\n",
    "    - [W, b]: 학습할 tensor들\n",
    "    - lr=0.01: learning rate\n",
    "    \n",
    "    ㅡ\n",
    "- 항상 붙어 다니는 3줄\n",
    "    - zero_grad():  gradient 초기화\n",
    "    - backward(): gradient 계산\n",
    "    - step(): 계산된 gradient를 이용해 방향대로 W와 b 개선"
   ]
  },
  {
   "cell_type": "code",
   "execution_count": 5,
   "id": "worth-worcester",
   "metadata": {
    "scrolled": true
   },
   "outputs": [],
   "source": [
    "optimizer = optim.SGD([W, b], lr=0.01)\n",
    "\n",
    "optimizer.zero_grad()\n",
    "cost.backward()\n",
    "optimizer.step()"
   ]
  },
  {
   "cell_type": "markdown",
   "id": "radio-concern",
   "metadata": {},
   "source": [
    "## Full training code\n",
    "\n",
    "\n",
    "- 한 번만\n",
    "    - 1. 데이터 정의\n",
    "    - 2. Hypothesis 초기화\n",
    "    - 3. Optimizer 정의\n",
    "    \n",
    "    \n",
    "- 반복\n",
    "    - 1. Hypothesis 예측\n",
    "    - 2. Cost 계산\n",
    "    - 3. Optimizer로 학습"
   ]
  },
  {
   "cell_type": "code",
   "execution_count": 6,
   "id": "removable-insured",
   "metadata": {},
   "outputs": [],
   "source": [
    "x_train = torch.FloatTensor([[1], [2], [3]])\n",
    "y_train = torch.FloatTensor([[2], [4], [6]])\n",
    "\n",
    "W = torch.zeros(1, requires_grad=True)\n",
    "b = torch.zeros(1, requires_grad=True)\n",
    "\n",
    "optimizer = optim.SGD([W, b], lr=0.01)\n",
    "\n",
    "nb_epochs = 1000\n",
    "for epoch in range(1, nb_epochs + 1):\n",
    "    hypothesis = x_train * W + b\n",
    "    cost = torch.mean((hypothesis - y_train) ** 2)\n",
    "    \n",
    "    optimizer.zero_grad()\n",
    "    cost.backward()\n",
    "    optimizer.step()"
   ]
  }
 ],
 "metadata": {
  "kernelspec": {
   "display_name": "Python 3",
   "language": "python",
   "name": "python3"
  },
  "language_info": {
   "codemirror_mode": {
    "name": "ipython",
    "version": 3
   },
   "file_extension": ".py",
   "mimetype": "text/x-python",
   "name": "python",
   "nbconvert_exporter": "python",
   "pygments_lexer": "ipython3",
   "version": "3.7.10"
  }
 },
 "nbformat": 4,
 "nbformat_minor": 5
}

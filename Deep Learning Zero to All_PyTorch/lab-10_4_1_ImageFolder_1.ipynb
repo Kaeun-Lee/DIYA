{
 "cells": [
  {
   "cell_type": "code",
   "execution_count": 2,
   "metadata": {},
   "outputs": [],
   "source": [
    "import torchvision\n",
    "from torchvision import transforms\n",
    "from torch.utils.data import DataLoader\n",
    "from matplotlib.pyplot import imshow  # 파이썬 이미지 라이브러리를 통해 불러온 이미지 -> jupyter notebook에 표시\n",
    "%matplotlib inline     "
   ]
  },
  {
   "cell_type": "code",
   "execution_count": 2,
   "metadata": {},
   "outputs": [],
   "source": [
    "custom_transform = transforms.Compose([transforms.Resize([64, 128])])\n",
    "train_data = torchvision.datasets.ImageFolder(root='custom_data/origin_data', transform=custom_transform)"
   ]
  },
  {
   "cell_type": "code",
   "execution_count": null,
   "metadata": {},
   "outputs": [],
   "source": [
    "for num, value in enumerate(train_data):\n",
    "    data, label = value\n",
    "\n",
    "    # 이후에 Resize를 다시 하지 않고, 바로 Resize된 Image를 사용할 수 있도록 데이터 저장\n",
    "    if label == 0:\n",
    "        data.save(f'custom_data/train_data/gray/{num}_{label}.jpeg')\n",
    "    else:\n",
    "        data.save(f'custom_data/train_data/red/{num}_{label}.jpeg')"
   ]
  }
 ],
 "metadata": {
  "interpreter": {
   "hash": "c4542eabbf237886ddbfc4b03920dae9795823cec85ea13af7528167bd142d90"
  },
  "kernelspec": {
   "display_name": "Python 3.7.10 ('AI_exam')",
   "language": "python",
   "name": "python3"
  },
  "language_info": {
   "codemirror_mode": {
    "name": "ipython",
    "version": 3
   },
   "file_extension": ".py",
   "mimetype": "text/x-python",
   "name": "python",
   "nbconvert_exporter": "python",
   "pygments_lexer": "ipython3",
   "version": "3.7.10"
  },
  "orig_nbformat": 4
 },
 "nbformat": 4,
 "nbformat_minor": 2
}

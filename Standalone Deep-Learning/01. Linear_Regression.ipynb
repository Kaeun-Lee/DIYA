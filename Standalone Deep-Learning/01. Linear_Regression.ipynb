{
 "cells": [
  {
   "cell_type": "markdown",
   "source": [
    "# [#4.Lab] Linear Regression Practice  "
   ],
   "metadata": {}
  },
  {
   "cell_type": "markdown",
   "source": [
    "## Data Generation"
   ],
   "metadata": {}
  },
  {
   "cell_type": "code",
   "execution_count": 16,
   "source": [
    "X = list(range(10))\n",
    "Y = [1, 1, 2, 4, 5, 7, 8, 9, 9, 10]"
   ],
   "outputs": [],
   "metadata": {}
  },
  {
   "cell_type": "code",
   "execution_count": 17,
   "source": [
    "import matplotlib.pyplot as plt\n",
    "\n",
    "plt.plot(X, Y)\n",
    "plt.scatter(X, Y)"
   ],
   "outputs": [
    {
     "output_type": "execute_result",
     "data": {
      "text/plain": [
       "<matplotlib.collections.PathCollection at 0x7f632e96f590>"
      ]
     },
     "metadata": {},
     "execution_count": 17
    },
    {
     "output_type": "display_data",
     "data": {
      "text/plain": [
       "<Figure size 432x288 with 1 Axes>"
      ],
      "image/png": "[encoded data removed]"
     },
     "metadata": {
      "needs_background": "light"
     }
    }
   ],
   "metadata": {}
  },
  {
   "cell_type": "markdown",
   "source": [
    "## Hypothesis(함수) 정의"
   ],
   "metadata": {}
  },
  {
   "cell_type": "code",
   "execution_count": 18,
   "source": [
    "class H():\n",
    "\n",
    "    def __init__(self, w):  # 이 class는 w를 input으로 받음\n",
    "        self.w = w          # w를 저장\n",
    "\n",
    "    # pytorch에서는 H(x)를 통과시킬 때 forward라는 함수를 사용\n",
    "    def forward(self, x):\n",
    "        return self.w * x   # 여기에서 H(X)를 계산\n",
    "\n",
    "\n",
    "def cost(h, X, Y) :\n",
    "    error = 0\n",
    "    for  i  in range(len(X)):\n",
    "        error += (h.forward(X[i]) - Y[i])** 2  # 각각의 instance에 대해 cost value를 구함\n",
    "    error = error / len(X)                     # error를 전체 개수로 나누어 평균을 계산\n",
    "    return error    \n",
    "\n",
    "h = H(4)                    # w가 4인 가설을 만듦    \n",
    "# print(h.w)                # 밖에서 h의 변수를 보고 싶을 때\n",
    "cost(h, X, Y)               # 이 가설일 때, 내가 가진 X, Y를 넣어 cost value를 계산"
   ],
   "outputs": [
    {
     "output_type": "execute_result",
     "data": {
      "text/plain": [
       "222.2"
      ]
     },
     "metadata": {},
     "execution_count": 18
    }
   ],
   "metadata": {}
  },
  {
   "cell_type": "markdown",
   "source": [
    "## cost surface\n",
    "- w가 바뀜에 따라 cost가 정말 바뀌는지 확인\n",
    "- for문 이용해서 다양한 h(가설)을 시도"
   ],
   "metadata": {}
  },
  {
   "cell_type": "code",
   "execution_count": 19,
   "source": [
    "list_w = []\n",
    "list_c = []\n",
    "for i in range(-100, 100):          # 여러 개의 hypothesis를 test\n",
    "    w = i * 0.1                     # 0.1 ~ 1\n",
    "    h = H(w)                        # 매번 새로 생성된 w 파라미터를 갖는 h를 생성\n",
    "    c = cost(h, X, Y)\n",
    "    list_w.append(w)\n",
    "    list_c.append(c)\n",
    "\n",
    "plt.figure(figsize=(5,5))\n",
    "plt.xlabel('w')\n",
    "plt.ylabel('cost')\n",
    "plt.scatter(list_w, list_c, s=0.1)  # list_w와 list_c의 길이가 맞지 않으면 error 발생\n"
   ],
   "outputs": [
    {
     "output_type": "execute_result",
     "data": {
      "text/plain": [
       "<matplotlib.collections.PathCollection at 0x7f632e96fbd0>"
      ]
     },
     "metadata": {},
     "execution_count": 19
    },
    {
     "output_type": "display_data",
     "data": {
      "text/plain": [
       "<Figure size 360x360 with 1 Axes>"
      ],
      "image/png": "[encoded data removed]"
     },
     "metadata": {
      "needs_background": "light"
     }
    }
   ],
   "metadata": {}
  },
  {
   "cell_type": "markdown",
   "source": [
    "## Train\n",
    "1. 수치해석적으로 직접 gradient 구하기\n",
    "2. gradient 공식을 통해서 한 번에 gradient를 구하기\n"
   ],
   "metadata": {}
  },
  {
   "cell_type": "code",
   "execution_count": 31,
   "source": [
    "# 수치해석적\n",
    "def cal_grad(w, cost):\n",
    "    h = H(w)\n",
    "    cost1 = cost(h, X, Y)\n",
    "    eps = 0.001\n",
    "    h = H(w+eps)            # h 재정의\n",
    "    cost2 = cost(h, X, Y)\n",
    "    dcost = cost2 - cost1   # delta cost\n",
    "    dw = eps\n",
    "    grad = dcost / dw       # 근사하는 gradient\n",
    "    return grad, (cost1+cost2)*0.5  \n",
    "\n",
    "# gradient 공식\n",
    "def cal_grad2(w, cost):\n",
    "    h = H(w)\n",
    "    grad = 0\n",
    "    for i in range(len(X)):\n",
    "        grad += 2 * (h.forward(X[i]) - Y[i]) * X[i]  # i번째 instance에 대한 grad값\n",
    "    grad = grad / len(X)    # grad의 평균값\n",
    "    c = cost(h, X, Y)\n",
    "    return grad, c\n",
    "\n",
    "\n",
    "# w update\n",
    "w1 = 1.4\n",
    "w2 = 1.4\n",
    "lr = 0.01\n",
    "\n",
    "list_w1 = []\n",
    "list_c1 = []\n",
    "list_w2 = []\n",
    "list_c2 = []\n",
    "\n",
    "# print(cal_grad(4, cost))  \n",
    "# (4, cost) : w가 4인 지점에서 cost를 구함. 여기서 cost는 값이 아니라 cost를 계산하는 함수를 인자로 넣어준 것\n",
    "\n",
    "for i in range(100):\n",
    "    grad, mean_cost = cal_grad(w1, cost)\n",
    "    grad2, mean_cost2 = cal_grad2(w2, cost)\n",
    "\n",
    "    # w = w + lr * (-cal_grad(w, cost))      # (-grad) : 반대 방향으로 가야 하기 때문 \n",
    "    w1 -= lr * grad\n",
    "    w2 -= lr * grad2\n",
    "    list_w1.append(w1)\n",
    "    list_w2.append(w2)\n",
    "    list_c1.append(mean_cost)\n",
    "    list_c2.append(mean_cost2)\n",
    "\n",
    "    # print(w1, mean_cost, w2, mean_cost2)\n",
    "\n",
    "plt.scatter(list_w1, list_c1)\n",
    "plt.scatter(list_w2, list_c2)\n"
   ],
   "outputs": [
    {
     "output_type": "execute_result",
     "data": {
      "text/plain": [
       "<matplotlib.collections.PathCollection at 0x7f632db4f610>"
      ]
     },
     "metadata": {},
     "execution_count": 31
    },
    {
     "output_type": "display_data",
     "data": {
      "text/plain": [
       "<Figure size 432x288 with 1 Axes>"
      ],
      "image/png": "[encoded data removed]"
     },
     "metadata": {
      "needs_background": "light"
     }
    }
   ],
   "metadata": {}
  }
 ],
 "metadata": {
  "orig_nbformat": 4,
  "language_info": {
   "name": "python"
  }
 },
 "nbformat": 4,
 "nbformat_minor": 2
}

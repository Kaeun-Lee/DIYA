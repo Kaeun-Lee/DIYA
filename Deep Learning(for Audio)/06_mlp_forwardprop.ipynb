{
 "cells": [
  {
   "cell_type": "code",
   "execution_count": 1,
   "id": "downtown-button",
   "metadata": {},
   "outputs": [
    {
     "name": "stdout",
     "output_type": "stream",
     "text": [
      "The network input is: [0.1474165  0.29375854 0.50103974]\n",
      "The network output is: [0.89202065 0.7532333 ]\n"
     ]
    }
   ],
   "source": [
    "import numpy as np\n",
    "\n",
    "class MLP:\n",
    "    def __init__(self, num_inputs=3, num_hidden=[3, 5], num_outputs=2):\n",
    "        \n",
    "        self.num_inputs = num_inputs\n",
    "        self.num_hidden = num_hidden\n",
    "        self.num_outputs = num_outputs\n",
    "    \n",
    "        layers = [self.num_inputs] + self.num_hidden + [self.num_outputs]  # 리스트 안의 숫자는 각 layer 안의 뉴런의 수를 의미\n",
    "        \n",
    "        # initiate random weights\n",
    "        self.weights = []\n",
    "        for i in range(len(layers)-1):\n",
    "            w = np.random.rand(layers[i], layers[i+1])                     # np.random.rand(m,n) : 0부터 1사이에서 균일한 확률 분포로 실수 난수를 matrix array(m,n)에 생성\n",
    "            self.weights.append(w)\n",
    "            \n",
    "            \n",
    "    def forward_propagate(self, inputs):      \n",
    "        activations = inputs                                               # a vector \n",
    "        \n",
    "        for w in self.weights:\n",
    "            # calculate net inputs\n",
    "            net_inputs = np.dot(activations, w)\n",
    "            \n",
    "            # calculate the activations\n",
    "            activations = self._sigmoid(net_inputs)\n",
    "            \n",
    "        return activations\n",
    "    \n",
    "    \n",
    "    def _sigmoid(self, x):\n",
    "        return 1 / (1 + np.exp(-x))\n",
    "    \n",
    "    \n",
    "if __name__ == \"__main__\":\n",
    "    \n",
    "    # create an MLP\n",
    "    mlp = MLP() \n",
    "    \n",
    "    # create some inputs\n",
    "    inputs = np.random.rand(mlp.num_inputs)                                 # inputs shuold be a vector\n",
    "    \n",
    "    # perform forward prop\n",
    "    outputs = mlp.forward_propagate(inputs)\n",
    "    \n",
    "    # print the results\n",
    "    print(\"The network input is: {}\".format(inputs))\n",
    "    print(\"The network output is: {}\".format(outputs))\n",
    "    "
   ]
  }
 ],
 "metadata": {
  "kernelspec": {
   "display_name": "Python 3",
   "language": "python",
   "name": "python3"
  },
  "language_info": {
   "codemirror_mode": {
    "name": "ipython",
    "version": 3
   },
   "file_extension": ".py",
   "mimetype": "text/x-python",
   "name": "python",
   "nbconvert_exporter": "python",
   "pygments_lexer": "ipython3",
   "version": "3.7.10"
  }
 },
 "nbformat": 4,
 "nbformat_minor": 5
}

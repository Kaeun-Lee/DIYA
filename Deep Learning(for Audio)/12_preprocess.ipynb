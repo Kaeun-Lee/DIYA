{
  "nbformat": 4,
  "nbformat_minor": 0,
  "metadata": {
    "colab": {
      "name": "12_preprocess",
      "provenance": [],
      "collapsed_sections": []
    },
    "kernelspec": {
      "name": "python3",
      "display_name": "Python 3"
    },
    "language_info": {
      "name": "python"
    }
  },
  "cells": [
    {
      "cell_type": "markdown",
      "metadata": {
        "id": "aCulEoqree2O"
      },
      "source": [
        "# Music genre classification: Preparing the dataset"
      ]
    },
    {
      "cell_type": "code",
      "metadata": {
        "id": "p5G9e2mfeo_W"
      },
      "source": [
        ""
      ],
      "execution_count": null,
      "outputs": []
    }
  ]
}